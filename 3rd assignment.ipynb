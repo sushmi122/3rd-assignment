{
 "cells": [
  {
   "cell_type": "code",
   "execution_count": null,
   "id": "e26477b2-2b33-4413-b650-bca10554fa94",
   "metadata": {},
   "outputs": [],
   "source": [
    "1. Functions reduce the need for duplicate code. This makes programs\n",
    "shorter, easier to read, and easier to update."
   ]
  },
  {
   "cell_type": "code",
   "execution_count": null,
   "id": "975328a1-6d2e-4e8c-9d91-4660d585523e",
   "metadata": {},
   "outputs": [],
   "source": [
    "2. The code in a function executes when the function is called, not when\n",
    "the function is defined."
   ]
  },
  {
   "cell_type": "code",
   "execution_count": null,
   "id": "458b2d94-504d-41b4-9b84-2cb98862e599",
   "metadata": {},
   "outputs": [],
   "source": [
    "3. The def statement defines (that is, creates) a function."
   ]
  },
  {
   "cell_type": "code",
   "execution_count": null,
   "id": "b32423a8-8c4a-4ce5-a96f-788bc04cc183",
   "metadata": {},
   "outputs": [],
   "source": [
    "4. A function consists of the def statement and the code in its def clause. A\n",
    "function call is what moves the program execution into the function, and\n",
    "the function call evaluates to the function’s return value."
   ]
  },
  {
   "cell_type": "code",
   "execution_count": null,
   "id": "1e4946e5-37aa-4e7b-a900-90802bd9a5e1",
   "metadata": {},
   "outputs": [],
   "source": [
    "5. There is one global scope, and a local scope is created whenever a\n",
    "function is called."
   ]
  },
  {
   "cell_type": "code",
   "execution_count": null,
   "id": "9911e467-010a-4ebf-a82e-493e3079cfb0",
   "metadata": {},
   "outputs": [],
   "source": [
    "6. When a function returns, the local scope is destroyed, and all the\n",
    "variables in it are forgotten."
   ]
  },
  {
   "cell_type": "code",
   "execution_count": null,
   "id": "c89dee03-3594-4086-a0d7-ca3e05cc664f",
   "metadata": {},
   "outputs": [],
   "source": [
    "7. A return value is the value that a function call evaluates to. Like any\n",
    "value, a return value can be used as part of an expression."
   ]
  },
  {
   "cell_type": "code",
   "execution_count": null,
   "id": "68ef74b7-e15e-42ce-8cab-996a46f61b47",
   "metadata": {},
   "outputs": [],
   "source": [
    "8. If there is no return statement for a function, its return value is None"
   ]
  },
  {
   "cell_type": "code",
   "execution_count": null,
   "id": "30580607-d5e4-4c94-8775-cebe1837e408",
   "metadata": {},
   "outputs": [],
   "source": [
    "9. A global statement will force a variable in a function to refer to the\n",
    "global variable."
   ]
  },
  {
   "cell_type": "code",
   "execution_count": null,
   "id": "33728502-86db-4810-9d47-d17728c65209",
   "metadata": {},
   "outputs": [],
   "source": [
    "10. The data type of None is NoneType."
   ]
  },
  {
   "cell_type": "code",
   "execution_count": null,
   "id": "66034e02-e427-493b-9b6c-56e3404c8a4c",
   "metadata": {},
   "outputs": [],
   "source": [
    "11. That import statement imports a module named areallyourpetsnamederic.\n",
    "(This isn’t a real Python module, by the way.)"
   ]
  },
  {
   "cell_type": "code",
   "execution_count": null,
   "id": "3450797d-a470-4c76-bdfc-b47404735873",
   "metadata": {},
   "outputs": [],
   "source": [
    "12. This function could be called with spam.bacon()."
   ]
  },
  {
   "cell_type": "code",
   "execution_count": null,
   "id": "aadfaa95-6eb1-4a36-9c76-3d69683e61d5",
   "metadata": {},
   "outputs": [],
   "source": [
    "13. Place the line of code that might cause an error in a try clause."
   ]
  },
  {
   "cell_type": "code",
   "execution_count": null,
   "id": "2d0b19da-2166-4999-8cc5-88e378dfe0e2",
   "metadata": {},
   "outputs": [],
   "source": [
    "14. The code that could potentially cause an error goes in the try clause. The\n",
    "code that executes if an error happens goes in the except clause."
   ]
  }
 ],
 "metadata": {
  "kernelspec": {
   "display_name": "Python 3 (ipykernel)",
   "language": "python",
   "name": "python3"
  },
  "language_info": {
   "codemirror_mode": {
    "name": "ipython",
    "version": 3
   },
   "file_extension": ".py",
   "mimetype": "text/x-python",
   "name": "python",
   "nbconvert_exporter": "python",
   "pygments_lexer": "ipython3",
   "version": "3.10.6"
  }
 },
 "nbformat": 4,
 "nbformat_minor": 5
}
